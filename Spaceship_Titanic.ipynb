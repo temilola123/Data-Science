{
  "nbformat": 4,
  "nbformat_minor": 0,
  "metadata": {
    "colab": {
      "provenance": [],
      "authorship_tag": "ABX9TyObqUzhhUdKoDx/k0WIkl7A",
      "include_colab_link": true
    },
    "kernelspec": {
      "name": "python3",
      "display_name": "Python 3"
    },
    "language_info": {
      "name": "python"
    }
  },
  "cells": [
    {
      "cell_type": "markdown",
      "metadata": {
        "id": "view-in-github",
        "colab_type": "text"
      },
      "source": [
        "<a href=\"https://colab.research.google.com/github/temilola123/Data-Science/blob/main/Spaceship_Titanic.ipynb\" target=\"_parent\"><img src=\"https://colab.research.google.com/assets/colab-badge.svg\" alt=\"Open In Colab\"/></a>"
      ]
    },
    {
      "cell_type": "markdown",
      "source": [
        "#***Data Collating***#"
      ],
      "metadata": {
        "id": "RuuV7vyZPRaw"
      }
    },
    {
      "cell_type": "code",
      "execution_count": null,
      "metadata": {
        "id": "c7CZpPOjPElL"
      },
      "outputs": [],
      "source": [
        "import pandas as pd\n",
        "\n",
        "from google.colab import files\n",
        "\n",
        "\n",
        "#Upload test file from system\n",
        "test_uploaded = files.upload()\n",
        "\n",
        "training_uploaded = files.upload()"
      ]
    },
    {
      "cell_type": "code",
      "source": [
        "import io\n",
        "\n",
        "#Initialize test_data and train_data to the uploaded files\n",
        "test_data = pd.read_csv(io.BytesIO(test_uploaded['test.csv']))\n",
        "\n",
        "train_data = pd.read_csv(io.BytesIO(training_uploaded['train.csv']))\n"
      ],
      "metadata": {
        "id": "0M6260x-PowP"
      },
      "execution_count": null,
      "outputs": []
    }
  ]
}